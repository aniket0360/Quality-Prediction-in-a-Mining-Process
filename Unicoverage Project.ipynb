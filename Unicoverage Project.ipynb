{
 "cells": [
  {
   "cell_type": "markdown",
   "id": "5fda928b",
   "metadata": {},
   "source": [
    "# Analyze the dataset "
   ]
  },
  {
   "cell_type": "code",
   "execution_count": 1,
   "id": "817a942c",
   "metadata": {},
   "outputs": [],
   "source": [
    "import pandas as pd\n",
    "import numpy as np"
   ]
  },
  {
   "cell_type": "code",
   "execution_count": 2,
   "id": "faa21ac9",
   "metadata": {},
   "outputs": [],
   "source": [
    "df = pd.read_csv('MiningProcess_Flotation_Plant_Database.csv')"
   ]
  },
  {
   "cell_type": "code",
   "execution_count": 3,
   "id": "bfba8a71",
   "metadata": {},
   "outputs": [
    {
     "data": {
      "text/html": [
       "<div>\n",
       "<style scoped>\n",
       "    .dataframe tbody tr th:only-of-type {\n",
       "        vertical-align: middle;\n",
       "    }\n",
       "\n",
       "    .dataframe tbody tr th {\n",
       "        vertical-align: top;\n",
       "    }\n",
       "\n",
       "    .dataframe thead th {\n",
       "        text-align: right;\n",
       "    }\n",
       "</style>\n",
       "<table border=\"1\" class=\"dataframe\">\n",
       "  <thead>\n",
       "    <tr style=\"text-align: right;\">\n",
       "      <th></th>\n",
       "      <th>date</th>\n",
       "      <th>% Iron Feed</th>\n",
       "      <th>% Silica Feed</th>\n",
       "      <th>Starch Flow</th>\n",
       "      <th>Amina Flow</th>\n",
       "      <th>Ore Pulp Flow</th>\n",
       "      <th>Ore Pulp pH</th>\n",
       "      <th>Ore Pulp Density</th>\n",
       "      <th>Flotation Column 01 Air Flow</th>\n",
       "      <th>Flotation Column 02 Air Flow</th>\n",
       "      <th>...</th>\n",
       "      <th>Flotation Column 07 Air Flow</th>\n",
       "      <th>Flotation Column 01 Level</th>\n",
       "      <th>Flotation Column 02 Level</th>\n",
       "      <th>Flotation Column 03 Level</th>\n",
       "      <th>Flotation Column 04 Level</th>\n",
       "      <th>Flotation Column 05 Level</th>\n",
       "      <th>Flotation Column 06 Level</th>\n",
       "      <th>Flotation Column 07 Level</th>\n",
       "      <th>% Iron Concentrate</th>\n",
       "      <th>% Silica Concentrate</th>\n",
       "    </tr>\n",
       "  </thead>\n",
       "  <tbody>\n",
       "    <tr>\n",
       "      <th>0</th>\n",
       "      <td>2017-03-10 01:00:00</td>\n",
       "      <td>55,2</td>\n",
       "      <td>16,98</td>\n",
       "      <td>3019,53</td>\n",
       "      <td>557,434</td>\n",
       "      <td>395,713</td>\n",
       "      <td>10,0664</td>\n",
       "      <td>1,74</td>\n",
       "      <td>249,214</td>\n",
       "      <td>253,235</td>\n",
       "      <td>...</td>\n",
       "      <td>250,884</td>\n",
       "      <td>457,396</td>\n",
       "      <td>432,962</td>\n",
       "      <td>424,954</td>\n",
       "      <td>443,558</td>\n",
       "      <td>502,255</td>\n",
       "      <td>446,37</td>\n",
       "      <td>523,344</td>\n",
       "      <td>66,91</td>\n",
       "      <td>1,31</td>\n",
       "    </tr>\n",
       "    <tr>\n",
       "      <th>1</th>\n",
       "      <td>2017-03-10 01:00:00</td>\n",
       "      <td>55,2</td>\n",
       "      <td>16,98</td>\n",
       "      <td>3024,41</td>\n",
       "      <td>563,965</td>\n",
       "      <td>397,383</td>\n",
       "      <td>10,0672</td>\n",
       "      <td>1,74</td>\n",
       "      <td>249,719</td>\n",
       "      <td>250,532</td>\n",
       "      <td>...</td>\n",
       "      <td>248,994</td>\n",
       "      <td>451,891</td>\n",
       "      <td>429,56</td>\n",
       "      <td>432,939</td>\n",
       "      <td>448,086</td>\n",
       "      <td>496,363</td>\n",
       "      <td>445,922</td>\n",
       "      <td>498,075</td>\n",
       "      <td>66,91</td>\n",
       "      <td>1,31</td>\n",
       "    </tr>\n",
       "    <tr>\n",
       "      <th>2</th>\n",
       "      <td>2017-03-10 01:00:00</td>\n",
       "      <td>55,2</td>\n",
       "      <td>16,98</td>\n",
       "      <td>3043,46</td>\n",
       "      <td>568,054</td>\n",
       "      <td>399,668</td>\n",
       "      <td>10,068</td>\n",
       "      <td>1,74</td>\n",
       "      <td>249,741</td>\n",
       "      <td>247,874</td>\n",
       "      <td>...</td>\n",
       "      <td>248,071</td>\n",
       "      <td>451,24</td>\n",
       "      <td>468,927</td>\n",
       "      <td>434,61</td>\n",
       "      <td>449,688</td>\n",
       "      <td>484,411</td>\n",
       "      <td>447,826</td>\n",
       "      <td>458,567</td>\n",
       "      <td>66,91</td>\n",
       "      <td>1,31</td>\n",
       "    </tr>\n",
       "    <tr>\n",
       "      <th>3</th>\n",
       "      <td>2017-03-10 01:00:00</td>\n",
       "      <td>55,2</td>\n",
       "      <td>16,98</td>\n",
       "      <td>3047,36</td>\n",
       "      <td>568,665</td>\n",
       "      <td>397,939</td>\n",
       "      <td>10,0689</td>\n",
       "      <td>1,74</td>\n",
       "      <td>249,917</td>\n",
       "      <td>254,487</td>\n",
       "      <td>...</td>\n",
       "      <td>251,147</td>\n",
       "      <td>452,441</td>\n",
       "      <td>458,165</td>\n",
       "      <td>442,865</td>\n",
       "      <td>446,21</td>\n",
       "      <td>471,411</td>\n",
       "      <td>437,69</td>\n",
       "      <td>427,669</td>\n",
       "      <td>66,91</td>\n",
       "      <td>1,31</td>\n",
       "    </tr>\n",
       "    <tr>\n",
       "      <th>4</th>\n",
       "      <td>2017-03-10 01:00:00</td>\n",
       "      <td>55,2</td>\n",
       "      <td>16,98</td>\n",
       "      <td>3033,69</td>\n",
       "      <td>558,167</td>\n",
       "      <td>400,254</td>\n",
       "      <td>10,0697</td>\n",
       "      <td>1,74</td>\n",
       "      <td>250,203</td>\n",
       "      <td>252,136</td>\n",
       "      <td>...</td>\n",
       "      <td>248,928</td>\n",
       "      <td>452,441</td>\n",
       "      <td>452,9</td>\n",
       "      <td>450,523</td>\n",
       "      <td>453,67</td>\n",
       "      <td>462,598</td>\n",
       "      <td>443,682</td>\n",
       "      <td>425,679</td>\n",
       "      <td>66,91</td>\n",
       "      <td>1,31</td>\n",
       "    </tr>\n",
       "  </tbody>\n",
       "</table>\n",
       "<p>5 rows × 24 columns</p>\n",
       "</div>"
      ],
      "text/plain": [
       "                  date % Iron Feed % Silica Feed Starch Flow Amina Flow  \\\n",
       "0  2017-03-10 01:00:00        55,2         16,98     3019,53    557,434   \n",
       "1  2017-03-10 01:00:00        55,2         16,98     3024,41    563,965   \n",
       "2  2017-03-10 01:00:00        55,2         16,98     3043,46    568,054   \n",
       "3  2017-03-10 01:00:00        55,2         16,98     3047,36    568,665   \n",
       "4  2017-03-10 01:00:00        55,2         16,98     3033,69    558,167   \n",
       "\n",
       "  Ore Pulp Flow Ore Pulp pH Ore Pulp Density Flotation Column 01 Air Flow  \\\n",
       "0       395,713     10,0664             1,74                      249,214   \n",
       "1       397,383     10,0672             1,74                      249,719   \n",
       "2       399,668      10,068             1,74                      249,741   \n",
       "3       397,939     10,0689             1,74                      249,917   \n",
       "4       400,254     10,0697             1,74                      250,203   \n",
       "\n",
       "  Flotation Column 02 Air Flow  ... Flotation Column 07 Air Flow  \\\n",
       "0                      253,235  ...                      250,884   \n",
       "1                      250,532  ...                      248,994   \n",
       "2                      247,874  ...                      248,071   \n",
       "3                      254,487  ...                      251,147   \n",
       "4                      252,136  ...                      248,928   \n",
       "\n",
       "  Flotation Column 01 Level Flotation Column 02 Level  \\\n",
       "0                   457,396                   432,962   \n",
       "1                   451,891                    429,56   \n",
       "2                    451,24                   468,927   \n",
       "3                   452,441                   458,165   \n",
       "4                   452,441                     452,9   \n",
       "\n",
       "  Flotation Column 03 Level Flotation Column 04 Level  \\\n",
       "0                   424,954                   443,558   \n",
       "1                   432,939                   448,086   \n",
       "2                    434,61                   449,688   \n",
       "3                   442,865                    446,21   \n",
       "4                   450,523                    453,67   \n",
       "\n",
       "  Flotation Column 05 Level Flotation Column 06 Level  \\\n",
       "0                   502,255                    446,37   \n",
       "1                   496,363                   445,922   \n",
       "2                   484,411                   447,826   \n",
       "3                   471,411                    437,69   \n",
       "4                   462,598                   443,682   \n",
       "\n",
       "  Flotation Column 07 Level % Iron Concentrate % Silica Concentrate  \n",
       "0                   523,344              66,91                 1,31  \n",
       "1                   498,075              66,91                 1,31  \n",
       "2                   458,567              66,91                 1,31  \n",
       "3                   427,669              66,91                 1,31  \n",
       "4                   425,679              66,91                 1,31  \n",
       "\n",
       "[5 rows x 24 columns]"
      ]
     },
     "execution_count": 3,
     "metadata": {},
     "output_type": "execute_result"
    }
   ],
   "source": [
    "df.head()"
   ]
  },
  {
   "cell_type": "code",
   "execution_count": 4,
   "id": "699807fe",
   "metadata": {},
   "outputs": [
    {
     "name": "stdout",
     "output_type": "stream",
     "text": [
      "<class 'pandas.core.frame.DataFrame'>\n",
      "RangeIndex: 737453 entries, 0 to 737452\n",
      "Data columns (total 24 columns):\n",
      " #   Column                        Non-Null Count   Dtype \n",
      "---  ------                        --------------   ----- \n",
      " 0   date                          737453 non-null  object\n",
      " 1   % Iron Feed                   737453 non-null  object\n",
      " 2   % Silica Feed                 737453 non-null  object\n",
      " 3   Starch Flow                   737453 non-null  object\n",
      " 4   Amina Flow                    737453 non-null  object\n",
      " 5   Ore Pulp Flow                 737453 non-null  object\n",
      " 6   Ore Pulp pH                   737453 non-null  object\n",
      " 7   Ore Pulp Density              737453 non-null  object\n",
      " 8   Flotation Column 01 Air Flow  737453 non-null  object\n",
      " 9   Flotation Column 02 Air Flow  737453 non-null  object\n",
      " 10  Flotation Column 03 Air Flow  737453 non-null  object\n",
      " 11  Flotation Column 04 Air Flow  737453 non-null  object\n",
      " 12  Flotation Column 05 Air Flow  737453 non-null  object\n",
      " 13  Flotation Column 06 Air Flow  737453 non-null  object\n",
      " 14  Flotation Column 07 Air Flow  737453 non-null  object\n",
      " 15  Flotation Column 01 Level     737453 non-null  object\n",
      " 16  Flotation Column 02 Level     737453 non-null  object\n",
      " 17  Flotation Column 03 Level     737453 non-null  object\n",
      " 18  Flotation Column 04 Level     737453 non-null  object\n",
      " 19  Flotation Column 05 Level     737453 non-null  object\n",
      " 20  Flotation Column 06 Level     737453 non-null  object\n",
      " 21  Flotation Column 07 Level     737453 non-null  object\n",
      " 22  % Iron Concentrate            737453 non-null  object\n",
      " 23  % Silica Concentrate          737453 non-null  object\n",
      "dtypes: object(24)\n",
      "memory usage: 135.0+ MB\n"
     ]
    }
   ],
   "source": [
    "df.info()"
   ]
  },
  {
   "cell_type": "code",
   "execution_count": 5,
   "id": "3f5da720",
   "metadata": {},
   "outputs": [
    {
     "data": {
      "text/html": [
       "<div>\n",
       "<style scoped>\n",
       "    .dataframe tbody tr th:only-of-type {\n",
       "        vertical-align: middle;\n",
       "    }\n",
       "\n",
       "    .dataframe tbody tr th {\n",
       "        vertical-align: top;\n",
       "    }\n",
       "\n",
       "    .dataframe thead th {\n",
       "        text-align: right;\n",
       "    }\n",
       "</style>\n",
       "<table border=\"1\" class=\"dataframe\">\n",
       "  <thead>\n",
       "    <tr style=\"text-align: right;\">\n",
       "      <th></th>\n",
       "      <th>date</th>\n",
       "      <th>% Iron Feed</th>\n",
       "      <th>% Silica Feed</th>\n",
       "      <th>Starch Flow</th>\n",
       "      <th>Amina Flow</th>\n",
       "      <th>Ore Pulp Flow</th>\n",
       "      <th>Ore Pulp pH</th>\n",
       "      <th>Ore Pulp Density</th>\n",
       "      <th>Flotation Column 01 Air Flow</th>\n",
       "      <th>Flotation Column 02 Air Flow</th>\n",
       "      <th>...</th>\n",
       "      <th>Flotation Column 07 Air Flow</th>\n",
       "      <th>Flotation Column 01 Level</th>\n",
       "      <th>Flotation Column 02 Level</th>\n",
       "      <th>Flotation Column 03 Level</th>\n",
       "      <th>Flotation Column 04 Level</th>\n",
       "      <th>Flotation Column 05 Level</th>\n",
       "      <th>Flotation Column 06 Level</th>\n",
       "      <th>Flotation Column 07 Level</th>\n",
       "      <th>% Iron Concentrate</th>\n",
       "      <th>% Silica Concentrate</th>\n",
       "    </tr>\n",
       "  </thead>\n",
       "  <tbody>\n",
       "    <tr>\n",
       "      <th>count</th>\n",
       "      <td>737453</td>\n",
       "      <td>737453</td>\n",
       "      <td>737453</td>\n",
       "      <td>737453</td>\n",
       "      <td>737453</td>\n",
       "      <td>737453</td>\n",
       "      <td>737453</td>\n",
       "      <td>737453</td>\n",
       "      <td>737453</td>\n",
       "      <td>737453</td>\n",
       "      <td>...</td>\n",
       "      <td>737453</td>\n",
       "      <td>737453</td>\n",
       "      <td>737453</td>\n",
       "      <td>737453</td>\n",
       "      <td>737453</td>\n",
       "      <td>737453</td>\n",
       "      <td>737453</td>\n",
       "      <td>737453</td>\n",
       "      <td>737453</td>\n",
       "      <td>737453</td>\n",
       "    </tr>\n",
       "    <tr>\n",
       "      <th>unique</th>\n",
       "      <td>4097</td>\n",
       "      <td>278</td>\n",
       "      <td>293</td>\n",
       "      <td>409317</td>\n",
       "      <td>319416</td>\n",
       "      <td>180189</td>\n",
       "      <td>131143</td>\n",
       "      <td>105805</td>\n",
       "      <td>43675</td>\n",
       "      <td>80442</td>\n",
       "      <td>...</td>\n",
       "      <td>86819</td>\n",
       "      <td>299573</td>\n",
       "      <td>331189</td>\n",
       "      <td>322315</td>\n",
       "      <td>309264</td>\n",
       "      <td>276051</td>\n",
       "      <td>301502</td>\n",
       "      <td>295667</td>\n",
       "      <td>38696</td>\n",
       "      <td>55569</td>\n",
       "    </tr>\n",
       "    <tr>\n",
       "      <th>top</th>\n",
       "      <td>2017-06-16 15:00:00</td>\n",
       "      <td>64,03</td>\n",
       "      <td>6,26</td>\n",
       "      <td>2562,5</td>\n",
       "      <td>534,668</td>\n",
       "      <td>402,246</td>\n",
       "      <td>10,0591</td>\n",
       "      <td>1,75</td>\n",
       "      <td>299,927</td>\n",
       "      <td>255,322</td>\n",
       "      <td>...</td>\n",
       "      <td>299,487</td>\n",
       "      <td>452,441</td>\n",
       "      <td>608,887</td>\n",
       "      <td>601,06</td>\n",
       "      <td>491,406</td>\n",
       "      <td>513,879</td>\n",
       "      <td>474,37</td>\n",
       "      <td>479,478</td>\n",
       "      <td>65,44</td>\n",
       "      <td>2,08</td>\n",
       "    </tr>\n",
       "    <tr>\n",
       "      <th>freq</th>\n",
       "      <td>180</td>\n",
       "      <td>142560</td>\n",
       "      <td>142560</td>\n",
       "      <td>690</td>\n",
       "      <td>959</td>\n",
       "      <td>1735</td>\n",
       "      <td>1509</td>\n",
       "      <td>3214</td>\n",
       "      <td>13683</td>\n",
       "      <td>1487</td>\n",
       "      <td>...</td>\n",
       "      <td>3405</td>\n",
       "      <td>1013</td>\n",
       "      <td>817</td>\n",
       "      <td>989</td>\n",
       "      <td>733</td>\n",
       "      <td>709</td>\n",
       "      <td>746</td>\n",
       "      <td>905</td>\n",
       "      <td>16920</td>\n",
       "      <td>17100</td>\n",
       "    </tr>\n",
       "  </tbody>\n",
       "</table>\n",
       "<p>4 rows × 24 columns</p>\n",
       "</div>"
      ],
      "text/plain": [
       "                       date % Iron Feed % Silica Feed Starch Flow Amina Flow  \\\n",
       "count                737453      737453        737453      737453     737453   \n",
       "unique                 4097         278           293      409317     319416   \n",
       "top     2017-06-16 15:00:00       64,03          6,26      2562,5    534,668   \n",
       "freq                    180      142560        142560         690        959   \n",
       "\n",
       "       Ore Pulp Flow Ore Pulp pH Ore Pulp Density  \\\n",
       "count         737453      737453           737453   \n",
       "unique        180189      131143           105805   \n",
       "top          402,246     10,0591             1,75   \n",
       "freq            1735        1509             3214   \n",
       "\n",
       "       Flotation Column 01 Air Flow Flotation Column 02 Air Flow  ...  \\\n",
       "count                        737453                       737453  ...   \n",
       "unique                        43675                        80442  ...   \n",
       "top                         299,927                      255,322  ...   \n",
       "freq                          13683                         1487  ...   \n",
       "\n",
       "       Flotation Column 07 Air Flow Flotation Column 01 Level  \\\n",
       "count                        737453                    737453   \n",
       "unique                        86819                    299573   \n",
       "top                         299,487                   452,441   \n",
       "freq                           3405                      1013   \n",
       "\n",
       "       Flotation Column 02 Level Flotation Column 03 Level  \\\n",
       "count                     737453                    737453   \n",
       "unique                    331189                    322315   \n",
       "top                      608,887                    601,06   \n",
       "freq                         817                       989   \n",
       "\n",
       "       Flotation Column 04 Level Flotation Column 05 Level  \\\n",
       "count                     737453                    737453   \n",
       "unique                    309264                    276051   \n",
       "top                      491,406                   513,879   \n",
       "freq                         733                       709   \n",
       "\n",
       "       Flotation Column 06 Level Flotation Column 07 Level % Iron Concentrate  \\\n",
       "count                     737453                    737453             737453   \n",
       "unique                    301502                    295667              38696   \n",
       "top                       474,37                   479,478              65,44   \n",
       "freq                         746                       905              16920   \n",
       "\n",
       "       % Silica Concentrate  \n",
       "count                737453  \n",
       "unique                55569  \n",
       "top                    2,08  \n",
       "freq                  17100  \n",
       "\n",
       "[4 rows x 24 columns]"
      ]
     },
     "execution_count": 5,
     "metadata": {},
     "output_type": "execute_result"
    }
   ],
   "source": [
    "df.describe()"
   ]
  },
  {
   "cell_type": "markdown",
   "id": "1cf04a24",
   "metadata": {},
   "source": [
    "# Preprocessing and data transformation"
   ]
  },
  {
   "cell_type": "code",
   "execution_count": 6,
   "id": "5acaf524",
   "metadata": {},
   "outputs": [
    {
     "data": {
      "text/plain": [
       "date                            0\n",
       "% Iron Feed                     0\n",
       "% Silica Feed                   0\n",
       "Starch Flow                     0\n",
       "Amina Flow                      0\n",
       "Ore Pulp Flow                   0\n",
       "Ore Pulp pH                     0\n",
       "Ore Pulp Density                0\n",
       "Flotation Column 01 Air Flow    0\n",
       "Flotation Column 02 Air Flow    0\n",
       "Flotation Column 03 Air Flow    0\n",
       "Flotation Column 04 Air Flow    0\n",
       "Flotation Column 05 Air Flow    0\n",
       "Flotation Column 06 Air Flow    0\n",
       "Flotation Column 07 Air Flow    0\n",
       "Flotation Column 01 Level       0\n",
       "Flotation Column 02 Level       0\n",
       "Flotation Column 03 Level       0\n",
       "Flotation Column 04 Level       0\n",
       "Flotation Column 05 Level       0\n",
       "Flotation Column 06 Level       0\n",
       "Flotation Column 07 Level       0\n",
       "% Iron Concentrate              0\n",
       "% Silica Concentrate            0\n",
       "dtype: int64"
      ]
     },
     "execution_count": 6,
     "metadata": {},
     "output_type": "execute_result"
    }
   ],
   "source": [
    "df.isnull().sum()"
   ]
  },
  {
   "cell_type": "code",
   "execution_count": 7,
   "id": "471c702f",
   "metadata": {
    "scrolled": false
   },
   "outputs": [
    {
     "data": {
      "text/plain": [
       "Index(['date', '% Iron Feed', '% Silica Feed', 'Starch Flow', 'Amina Flow',\n",
       "       'Ore Pulp Flow', 'Ore Pulp pH', 'Ore Pulp Density',\n",
       "       'Flotation Column 01 Air Flow', 'Flotation Column 02 Air Flow',\n",
       "       'Flotation Column 03 Air Flow', 'Flotation Column 04 Air Flow',\n",
       "       'Flotation Column 05 Air Flow', 'Flotation Column 06 Air Flow',\n",
       "       'Flotation Column 07 Air Flow', 'Flotation Column 01 Level',\n",
       "       'Flotation Column 02 Level', 'Flotation Column 03 Level',\n",
       "       'Flotation Column 04 Level', 'Flotation Column 05 Level',\n",
       "       'Flotation Column 06 Level', 'Flotation Column 07 Level',\n",
       "       '% Iron Concentrate', '% Silica Concentrate'],\n",
       "      dtype='object')"
      ]
     },
     "execution_count": 7,
     "metadata": {},
     "output_type": "execute_result"
    }
   ],
   "source": [
    "df.columns"
   ]
  },
  {
   "cell_type": "code",
   "execution_count": 8,
   "id": "82952b97",
   "metadata": {},
   "outputs": [],
   "source": [
    "df['% Iron Feed'] = df['% Iron Feed'].str.replace(',', '.')\n",
    "df['% Silica Feed'] = df['% Silica Feed'].str.replace(',', '.')\n",
    "df['Ore Pulp Density'] = df['Ore Pulp Density'].str.replace(',', '.')\n",
    "df['% Iron Concentrate'] = df['% Iron Concentrate'].str.replace(',', '.')\n",
    "df['% Silica Concentrate'] = df['% Silica Concentrate'].str.replace(',', '.')"
   ]
  },
  {
   "cell_type": "code",
   "execution_count": 9,
   "id": "23c1480e",
   "metadata": {},
   "outputs": [
    {
     "data": {
      "text/html": [
       "<div>\n",
       "<style scoped>\n",
       "    .dataframe tbody tr th:only-of-type {\n",
       "        vertical-align: middle;\n",
       "    }\n",
       "\n",
       "    .dataframe tbody tr th {\n",
       "        vertical-align: top;\n",
       "    }\n",
       "\n",
       "    .dataframe thead th {\n",
       "        text-align: right;\n",
       "    }\n",
       "</style>\n",
       "<table border=\"1\" class=\"dataframe\">\n",
       "  <thead>\n",
       "    <tr style=\"text-align: right;\">\n",
       "      <th></th>\n",
       "      <th>date</th>\n",
       "      <th>% Iron Feed</th>\n",
       "      <th>% Silica Feed</th>\n",
       "      <th>Starch Flow</th>\n",
       "      <th>Amina Flow</th>\n",
       "      <th>Ore Pulp Flow</th>\n",
       "      <th>Ore Pulp pH</th>\n",
       "      <th>Ore Pulp Density</th>\n",
       "      <th>Flotation Column 01 Air Flow</th>\n",
       "      <th>Flotation Column 02 Air Flow</th>\n",
       "      <th>...</th>\n",
       "      <th>Flotation Column 07 Air Flow</th>\n",
       "      <th>Flotation Column 01 Level</th>\n",
       "      <th>Flotation Column 02 Level</th>\n",
       "      <th>Flotation Column 03 Level</th>\n",
       "      <th>Flotation Column 04 Level</th>\n",
       "      <th>Flotation Column 05 Level</th>\n",
       "      <th>Flotation Column 06 Level</th>\n",
       "      <th>Flotation Column 07 Level</th>\n",
       "      <th>% Iron Concentrate</th>\n",
       "      <th>% Silica Concentrate</th>\n",
       "    </tr>\n",
       "  </thead>\n",
       "  <tbody>\n",
       "    <tr>\n",
       "      <th>0</th>\n",
       "      <td>2017-03-10 01:00:00</td>\n",
       "      <td>55.2</td>\n",
       "      <td>16.98</td>\n",
       "      <td>3019,53</td>\n",
       "      <td>557,434</td>\n",
       "      <td>395,713</td>\n",
       "      <td>10,0664</td>\n",
       "      <td>1.74</td>\n",
       "      <td>249,214</td>\n",
       "      <td>253,235</td>\n",
       "      <td>...</td>\n",
       "      <td>250,884</td>\n",
       "      <td>457,396</td>\n",
       "      <td>432,962</td>\n",
       "      <td>424,954</td>\n",
       "      <td>443,558</td>\n",
       "      <td>502,255</td>\n",
       "      <td>446,37</td>\n",
       "      <td>523,344</td>\n",
       "      <td>66.91</td>\n",
       "      <td>1.31</td>\n",
       "    </tr>\n",
       "    <tr>\n",
       "      <th>1</th>\n",
       "      <td>2017-03-10 01:00:00</td>\n",
       "      <td>55.2</td>\n",
       "      <td>16.98</td>\n",
       "      <td>3024,41</td>\n",
       "      <td>563,965</td>\n",
       "      <td>397,383</td>\n",
       "      <td>10,0672</td>\n",
       "      <td>1.74</td>\n",
       "      <td>249,719</td>\n",
       "      <td>250,532</td>\n",
       "      <td>...</td>\n",
       "      <td>248,994</td>\n",
       "      <td>451,891</td>\n",
       "      <td>429,56</td>\n",
       "      <td>432,939</td>\n",
       "      <td>448,086</td>\n",
       "      <td>496,363</td>\n",
       "      <td>445,922</td>\n",
       "      <td>498,075</td>\n",
       "      <td>66.91</td>\n",
       "      <td>1.31</td>\n",
       "    </tr>\n",
       "    <tr>\n",
       "      <th>2</th>\n",
       "      <td>2017-03-10 01:00:00</td>\n",
       "      <td>55.2</td>\n",
       "      <td>16.98</td>\n",
       "      <td>3043,46</td>\n",
       "      <td>568,054</td>\n",
       "      <td>399,668</td>\n",
       "      <td>10,068</td>\n",
       "      <td>1.74</td>\n",
       "      <td>249,741</td>\n",
       "      <td>247,874</td>\n",
       "      <td>...</td>\n",
       "      <td>248,071</td>\n",
       "      <td>451,24</td>\n",
       "      <td>468,927</td>\n",
       "      <td>434,61</td>\n",
       "      <td>449,688</td>\n",
       "      <td>484,411</td>\n",
       "      <td>447,826</td>\n",
       "      <td>458,567</td>\n",
       "      <td>66.91</td>\n",
       "      <td>1.31</td>\n",
       "    </tr>\n",
       "    <tr>\n",
       "      <th>3</th>\n",
       "      <td>2017-03-10 01:00:00</td>\n",
       "      <td>55.2</td>\n",
       "      <td>16.98</td>\n",
       "      <td>3047,36</td>\n",
       "      <td>568,665</td>\n",
       "      <td>397,939</td>\n",
       "      <td>10,0689</td>\n",
       "      <td>1.74</td>\n",
       "      <td>249,917</td>\n",
       "      <td>254,487</td>\n",
       "      <td>...</td>\n",
       "      <td>251,147</td>\n",
       "      <td>452,441</td>\n",
       "      <td>458,165</td>\n",
       "      <td>442,865</td>\n",
       "      <td>446,21</td>\n",
       "      <td>471,411</td>\n",
       "      <td>437,69</td>\n",
       "      <td>427,669</td>\n",
       "      <td>66.91</td>\n",
       "      <td>1.31</td>\n",
       "    </tr>\n",
       "    <tr>\n",
       "      <th>4</th>\n",
       "      <td>2017-03-10 01:00:00</td>\n",
       "      <td>55.2</td>\n",
       "      <td>16.98</td>\n",
       "      <td>3033,69</td>\n",
       "      <td>558,167</td>\n",
       "      <td>400,254</td>\n",
       "      <td>10,0697</td>\n",
       "      <td>1.74</td>\n",
       "      <td>250,203</td>\n",
       "      <td>252,136</td>\n",
       "      <td>...</td>\n",
       "      <td>248,928</td>\n",
       "      <td>452,441</td>\n",
       "      <td>452,9</td>\n",
       "      <td>450,523</td>\n",
       "      <td>453,67</td>\n",
       "      <td>462,598</td>\n",
       "      <td>443,682</td>\n",
       "      <td>425,679</td>\n",
       "      <td>66.91</td>\n",
       "      <td>1.31</td>\n",
       "    </tr>\n",
       "  </tbody>\n",
       "</table>\n",
       "<p>5 rows × 24 columns</p>\n",
       "</div>"
      ],
      "text/plain": [
       "                  date % Iron Feed % Silica Feed Starch Flow Amina Flow  \\\n",
       "0  2017-03-10 01:00:00        55.2         16.98     3019,53    557,434   \n",
       "1  2017-03-10 01:00:00        55.2         16.98     3024,41    563,965   \n",
       "2  2017-03-10 01:00:00        55.2         16.98     3043,46    568,054   \n",
       "3  2017-03-10 01:00:00        55.2         16.98     3047,36    568,665   \n",
       "4  2017-03-10 01:00:00        55.2         16.98     3033,69    558,167   \n",
       "\n",
       "  Ore Pulp Flow Ore Pulp pH Ore Pulp Density Flotation Column 01 Air Flow  \\\n",
       "0       395,713     10,0664             1.74                      249,214   \n",
       "1       397,383     10,0672             1.74                      249,719   \n",
       "2       399,668      10,068             1.74                      249,741   \n",
       "3       397,939     10,0689             1.74                      249,917   \n",
       "4       400,254     10,0697             1.74                      250,203   \n",
       "\n",
       "  Flotation Column 02 Air Flow  ... Flotation Column 07 Air Flow  \\\n",
       "0                      253,235  ...                      250,884   \n",
       "1                      250,532  ...                      248,994   \n",
       "2                      247,874  ...                      248,071   \n",
       "3                      254,487  ...                      251,147   \n",
       "4                      252,136  ...                      248,928   \n",
       "\n",
       "  Flotation Column 01 Level Flotation Column 02 Level  \\\n",
       "0                   457,396                   432,962   \n",
       "1                   451,891                    429,56   \n",
       "2                    451,24                   468,927   \n",
       "3                   452,441                   458,165   \n",
       "4                   452,441                     452,9   \n",
       "\n",
       "  Flotation Column 03 Level Flotation Column 04 Level  \\\n",
       "0                   424,954                   443,558   \n",
       "1                   432,939                   448,086   \n",
       "2                    434,61                   449,688   \n",
       "3                   442,865                    446,21   \n",
       "4                   450,523                    453,67   \n",
       "\n",
       "  Flotation Column 05 Level Flotation Column 06 Level  \\\n",
       "0                   502,255                    446,37   \n",
       "1                   496,363                   445,922   \n",
       "2                   484,411                   447,826   \n",
       "3                   471,411                    437,69   \n",
       "4                   462,598                   443,682   \n",
       "\n",
       "  Flotation Column 07 Level % Iron Concentrate % Silica Concentrate  \n",
       "0                   523,344              66.91                 1.31  \n",
       "1                   498,075              66.91                 1.31  \n",
       "2                   458,567              66.91                 1.31  \n",
       "3                   427,669              66.91                 1.31  \n",
       "4                   425,679              66.91                 1.31  \n",
       "\n",
       "[5 rows x 24 columns]"
      ]
     },
     "execution_count": 9,
     "metadata": {},
     "output_type": "execute_result"
    }
   ],
   "source": [
    "df.head()"
   ]
  },
  {
   "cell_type": "code",
   "execution_count": 10,
   "id": "f100d970",
   "metadata": {},
   "outputs": [
    {
     "data": {
      "text/plain": [
       "0           306,4\n",
       "1           306,4\n",
       "2           306,4\n",
       "3           306,4\n",
       "4           306,4\n",
       "           ...   \n",
       "737448    299,623\n",
       "737449    300,465\n",
       "737450    299,707\n",
       "737451    298,819\n",
       "737452    297,395\n",
       "Name: Flotation Column 05 Air Flow, Length: 737453, dtype: object"
      ]
     },
     "execution_count": 10,
     "metadata": {},
     "output_type": "execute_result"
    }
   ],
   "source": [
    "df['Flotation Column 05 Air Flow']"
   ]
  },
  {
   "cell_type": "code",
   "execution_count": 11,
   "id": "a6b1efb0",
   "metadata": {},
   "outputs": [
    {
     "data": {
      "text/plain": [
       "0         295,096\n",
       "1         295,096\n",
       "2         295,096\n",
       "3         295,096\n",
       "4         295,096\n",
       "           ...   \n",
       "737448     299,92\n",
       "737449     299,71\n",
       "737450    299,927\n",
       "737451    299,372\n",
       "737452    298,717\n",
       "Name: Flotation Column 04 Air Flow, Length: 737453, dtype: object"
      ]
     },
     "execution_count": 11,
     "metadata": {},
     "output_type": "execute_result"
    }
   ],
   "source": [
    "df['Flotation Column 04 Air Flow']"
   ]
  },
  {
   "cell_type": "code",
   "execution_count": 12,
   "id": "2bafbd16",
   "metadata": {},
   "outputs": [
    {
     "data": {
      "text/plain": [
       "0         250,225\n",
       "1         250,137\n",
       "2         251,345\n",
       "3         250,422\n",
       "4         249,983\n",
       "           ...   \n",
       "737448    346,794\n",
       "737449    330,023\n",
       "737450     329,59\n",
       "737451    351,453\n",
       "737452    362,464\n",
       "Name: Flotation Column 06 Air Flow, Length: 737453, dtype: object"
      ]
     },
     "execution_count": 12,
     "metadata": {},
     "output_type": "execute_result"
    }
   ],
   "source": [
    "df['Flotation Column 06 Air Flow']"
   ]
  },
  {
   "cell_type": "code",
   "execution_count": 13,
   "id": "688929e4",
   "metadata": {},
   "outputs": [],
   "source": [
    "df['Starch Flow'] = df['Starch Flow'].str.replace(',', '')\n",
    "df['Amina Flow'] = df['Amina Flow'].str.replace(',', '')\n",
    "df['Ore Pulp Flow'] = df['Ore Pulp Flow'].str.replace(',', '')\n",
    "df['Ore Pulp pH'] = df['Ore Pulp pH'].str.replace(',', '')\n",
    "df['Ore Pulp Density'] = df['Ore Pulp Density'].str.replace(',', '')\n",
    "df['Flotation Column 01 Air Flow'] = df['Flotation Column 01 Air Flow'].str.replace(',', '')\n",
    "df['Flotation Column 02 Air Flow'] = df['Flotation Column 02 Air Flow'].str.replace(',', '')\n",
    "df['Flotation Column 03 Air Flow'] = df['Flotation Column 03 Air Flow'].str.replace(',', '')\n",
    "df['Flotation Column 04 Air Flow'] = df['Flotation Column 04 Air Flow'].str.replace(',', '')\n",
    "df['Flotation Column 05 Air Flow'] = df['Flotation Column 05 Air Flow'].str.replace(',', '')\n",
    "df['Flotation Column 06 Air Flow'] = df['Flotation Column 06 Air Flow'].str.replace(',', '')\n",
    "df['Flotation Column 07 Air Flow'] = df['Flotation Column 07 Air Flow'].str.replace(',', '')\n",
    "df['Flotation Column 01 Level'] = df['Flotation Column 01 Level'].str.replace(',', '')\n",
    "df['Flotation Column 02 Level'] = df['Flotation Column 02 Level'].str.replace(',', '')\n",
    "df['Flotation Column 03 Level'] = df['Flotation Column 03 Level'].str.replace(',', '')\n",
    "df['Flotation Column 04 Level'] = df['Flotation Column 04 Level'].str.replace(',', '')\n",
    "df['Flotation Column 05 Level'] = df['Flotation Column 05 Level'].str.replace(',', '')\n",
    "df['Flotation Column 06 Level'] = df['Flotation Column 06 Level'].str.replace(',', '')\n",
    "df['Flotation Column 07 Level'] = df['Flotation Column 07 Level'].str.replace(',', '')\n"
   ]
  },
  {
   "cell_type": "code",
   "execution_count": 14,
   "id": "f7efde24",
   "metadata": {},
   "outputs": [
    {
     "data": {
      "text/html": [
       "<div>\n",
       "<style scoped>\n",
       "    .dataframe tbody tr th:only-of-type {\n",
       "        vertical-align: middle;\n",
       "    }\n",
       "\n",
       "    .dataframe tbody tr th {\n",
       "        vertical-align: top;\n",
       "    }\n",
       "\n",
       "    .dataframe thead th {\n",
       "        text-align: right;\n",
       "    }\n",
       "</style>\n",
       "<table border=\"1\" class=\"dataframe\">\n",
       "  <thead>\n",
       "    <tr style=\"text-align: right;\">\n",
       "      <th></th>\n",
       "      <th>date</th>\n",
       "      <th>% Iron Feed</th>\n",
       "      <th>% Silica Feed</th>\n",
       "      <th>Starch Flow</th>\n",
       "      <th>Amina Flow</th>\n",
       "      <th>Ore Pulp Flow</th>\n",
       "      <th>Ore Pulp pH</th>\n",
       "      <th>Ore Pulp Density</th>\n",
       "      <th>Flotation Column 01 Air Flow</th>\n",
       "      <th>Flotation Column 02 Air Flow</th>\n",
       "      <th>...</th>\n",
       "      <th>Flotation Column 07 Air Flow</th>\n",
       "      <th>Flotation Column 01 Level</th>\n",
       "      <th>Flotation Column 02 Level</th>\n",
       "      <th>Flotation Column 03 Level</th>\n",
       "      <th>Flotation Column 04 Level</th>\n",
       "      <th>Flotation Column 05 Level</th>\n",
       "      <th>Flotation Column 06 Level</th>\n",
       "      <th>Flotation Column 07 Level</th>\n",
       "      <th>% Iron Concentrate</th>\n",
       "      <th>% Silica Concentrate</th>\n",
       "    </tr>\n",
       "  </thead>\n",
       "  <tbody>\n",
       "    <tr>\n",
       "      <th>0</th>\n",
       "      <td>2017-03-10 01:00:00</td>\n",
       "      <td>55.2</td>\n",
       "      <td>16.98</td>\n",
       "      <td>301953</td>\n",
       "      <td>557434</td>\n",
       "      <td>395713</td>\n",
       "      <td>100664</td>\n",
       "      <td>1.74</td>\n",
       "      <td>249214</td>\n",
       "      <td>253235</td>\n",
       "      <td>...</td>\n",
       "      <td>250884</td>\n",
       "      <td>457396</td>\n",
       "      <td>432962</td>\n",
       "      <td>424954</td>\n",
       "      <td>443558</td>\n",
       "      <td>502255</td>\n",
       "      <td>44637</td>\n",
       "      <td>523344</td>\n",
       "      <td>66.91</td>\n",
       "      <td>1.31</td>\n",
       "    </tr>\n",
       "    <tr>\n",
       "      <th>1</th>\n",
       "      <td>2017-03-10 01:00:00</td>\n",
       "      <td>55.2</td>\n",
       "      <td>16.98</td>\n",
       "      <td>302441</td>\n",
       "      <td>563965</td>\n",
       "      <td>397383</td>\n",
       "      <td>100672</td>\n",
       "      <td>1.74</td>\n",
       "      <td>249719</td>\n",
       "      <td>250532</td>\n",
       "      <td>...</td>\n",
       "      <td>248994</td>\n",
       "      <td>451891</td>\n",
       "      <td>42956</td>\n",
       "      <td>432939</td>\n",
       "      <td>448086</td>\n",
       "      <td>496363</td>\n",
       "      <td>445922</td>\n",
       "      <td>498075</td>\n",
       "      <td>66.91</td>\n",
       "      <td>1.31</td>\n",
       "    </tr>\n",
       "    <tr>\n",
       "      <th>2</th>\n",
       "      <td>2017-03-10 01:00:00</td>\n",
       "      <td>55.2</td>\n",
       "      <td>16.98</td>\n",
       "      <td>304346</td>\n",
       "      <td>568054</td>\n",
       "      <td>399668</td>\n",
       "      <td>10068</td>\n",
       "      <td>1.74</td>\n",
       "      <td>249741</td>\n",
       "      <td>247874</td>\n",
       "      <td>...</td>\n",
       "      <td>248071</td>\n",
       "      <td>45124</td>\n",
       "      <td>468927</td>\n",
       "      <td>43461</td>\n",
       "      <td>449688</td>\n",
       "      <td>484411</td>\n",
       "      <td>447826</td>\n",
       "      <td>458567</td>\n",
       "      <td>66.91</td>\n",
       "      <td>1.31</td>\n",
       "    </tr>\n",
       "    <tr>\n",
       "      <th>3</th>\n",
       "      <td>2017-03-10 01:00:00</td>\n",
       "      <td>55.2</td>\n",
       "      <td>16.98</td>\n",
       "      <td>304736</td>\n",
       "      <td>568665</td>\n",
       "      <td>397939</td>\n",
       "      <td>100689</td>\n",
       "      <td>1.74</td>\n",
       "      <td>249917</td>\n",
       "      <td>254487</td>\n",
       "      <td>...</td>\n",
       "      <td>251147</td>\n",
       "      <td>452441</td>\n",
       "      <td>458165</td>\n",
       "      <td>442865</td>\n",
       "      <td>44621</td>\n",
       "      <td>471411</td>\n",
       "      <td>43769</td>\n",
       "      <td>427669</td>\n",
       "      <td>66.91</td>\n",
       "      <td>1.31</td>\n",
       "    </tr>\n",
       "    <tr>\n",
       "      <th>4</th>\n",
       "      <td>2017-03-10 01:00:00</td>\n",
       "      <td>55.2</td>\n",
       "      <td>16.98</td>\n",
       "      <td>303369</td>\n",
       "      <td>558167</td>\n",
       "      <td>400254</td>\n",
       "      <td>100697</td>\n",
       "      <td>1.74</td>\n",
       "      <td>250203</td>\n",
       "      <td>252136</td>\n",
       "      <td>...</td>\n",
       "      <td>248928</td>\n",
       "      <td>452441</td>\n",
       "      <td>4529</td>\n",
       "      <td>450523</td>\n",
       "      <td>45367</td>\n",
       "      <td>462598</td>\n",
       "      <td>443682</td>\n",
       "      <td>425679</td>\n",
       "      <td>66.91</td>\n",
       "      <td>1.31</td>\n",
       "    </tr>\n",
       "  </tbody>\n",
       "</table>\n",
       "<p>5 rows × 24 columns</p>\n",
       "</div>"
      ],
      "text/plain": [
       "                  date % Iron Feed % Silica Feed Starch Flow Amina Flow  \\\n",
       "0  2017-03-10 01:00:00        55.2         16.98      301953     557434   \n",
       "1  2017-03-10 01:00:00        55.2         16.98      302441     563965   \n",
       "2  2017-03-10 01:00:00        55.2         16.98      304346     568054   \n",
       "3  2017-03-10 01:00:00        55.2         16.98      304736     568665   \n",
       "4  2017-03-10 01:00:00        55.2         16.98      303369     558167   \n",
       "\n",
       "  Ore Pulp Flow Ore Pulp pH Ore Pulp Density Flotation Column 01 Air Flow  \\\n",
       "0        395713      100664             1.74                       249214   \n",
       "1        397383      100672             1.74                       249719   \n",
       "2        399668       10068             1.74                       249741   \n",
       "3        397939      100689             1.74                       249917   \n",
       "4        400254      100697             1.74                       250203   \n",
       "\n",
       "  Flotation Column 02 Air Flow  ... Flotation Column 07 Air Flow  \\\n",
       "0                       253235  ...                       250884   \n",
       "1                       250532  ...                       248994   \n",
       "2                       247874  ...                       248071   \n",
       "3                       254487  ...                       251147   \n",
       "4                       252136  ...                       248928   \n",
       "\n",
       "  Flotation Column 01 Level Flotation Column 02 Level  \\\n",
       "0                    457396                    432962   \n",
       "1                    451891                     42956   \n",
       "2                     45124                    468927   \n",
       "3                    452441                    458165   \n",
       "4                    452441                      4529   \n",
       "\n",
       "  Flotation Column 03 Level Flotation Column 04 Level  \\\n",
       "0                    424954                    443558   \n",
       "1                    432939                    448086   \n",
       "2                     43461                    449688   \n",
       "3                    442865                     44621   \n",
       "4                    450523                     45367   \n",
       "\n",
       "  Flotation Column 05 Level Flotation Column 06 Level  \\\n",
       "0                    502255                     44637   \n",
       "1                    496363                    445922   \n",
       "2                    484411                    447826   \n",
       "3                    471411                     43769   \n",
       "4                    462598                    443682   \n",
       "\n",
       "  Flotation Column 07 Level % Iron Concentrate % Silica Concentrate  \n",
       "0                    523344              66.91                 1.31  \n",
       "1                    498075              66.91                 1.31  \n",
       "2                    458567              66.91                 1.31  \n",
       "3                    427669              66.91                 1.31  \n",
       "4                    425679              66.91                 1.31  \n",
       "\n",
       "[5 rows x 24 columns]"
      ]
     },
     "execution_count": 14,
     "metadata": {},
     "output_type": "execute_result"
    }
   ],
   "source": [
    "df.head()"
   ]
  },
  {
   "cell_type": "code",
   "execution_count": 15,
   "id": "9c7497cf",
   "metadata": {},
   "outputs": [
    {
     "data": {
      "text/plain": [
       "date                            object\n",
       "% Iron Feed                     object\n",
       "% Silica Feed                   object\n",
       "Starch Flow                     object\n",
       "Amina Flow                      object\n",
       "Ore Pulp Flow                   object\n",
       "Ore Pulp pH                     object\n",
       "Ore Pulp Density                object\n",
       "Flotation Column 01 Air Flow    object\n",
       "Flotation Column 02 Air Flow    object\n",
       "Flotation Column 03 Air Flow    object\n",
       "Flotation Column 04 Air Flow    object\n",
       "Flotation Column 05 Air Flow    object\n",
       "Flotation Column 06 Air Flow    object\n",
       "Flotation Column 07 Air Flow    object\n",
       "Flotation Column 01 Level       object\n",
       "Flotation Column 02 Level       object\n",
       "Flotation Column 03 Level       object\n",
       "Flotation Column 04 Level       object\n",
       "Flotation Column 05 Level       object\n",
       "Flotation Column 06 Level       object\n",
       "Flotation Column 07 Level       object\n",
       "% Iron Concentrate              object\n",
       "% Silica Concentrate            object\n",
       "dtype: object"
      ]
     },
     "execution_count": 15,
     "metadata": {},
     "output_type": "execute_result"
    }
   ],
   "source": [
    "df.dtypes"
   ]
  },
  {
   "cell_type": "code",
   "execution_count": 16,
   "id": "3bfb93ac",
   "metadata": {},
   "outputs": [],
   "source": [
    "df[['% Iron Feed', '% Silica Feed', 'Ore Pulp Density', '% Iron Concentrate', '% Silica Concentrate']]=df[['% Iron Feed', '% Silica Feed', 'Ore Pulp Density', '% Iron Concentrate', '% Silica Concentrate']].astype({'% Iron Feed':float, '% Silica Feed':float, 'Ore Pulp Density':float, '% Iron Concentrate':float, '% Silica Concentrate':float})"
   ]
  },
  {
   "cell_type": "code",
   "execution_count": 17,
   "id": "bb7294ca",
   "metadata": {
    "scrolled": false
   },
   "outputs": [
    {
     "data": {
      "text/plain": [
       "date                             object\n",
       "% Iron Feed                     float64\n",
       "% Silica Feed                   float64\n",
       "Starch Flow                      object\n",
       "Amina Flow                       object\n",
       "Ore Pulp Flow                    object\n",
       "Ore Pulp pH                      object\n",
       "Ore Pulp Density                float64\n",
       "Flotation Column 01 Air Flow     object\n",
       "Flotation Column 02 Air Flow     object\n",
       "Flotation Column 03 Air Flow     object\n",
       "Flotation Column 04 Air Flow     object\n",
       "Flotation Column 05 Air Flow     object\n",
       "Flotation Column 06 Air Flow     object\n",
       "Flotation Column 07 Air Flow     object\n",
       "Flotation Column 01 Level        object\n",
       "Flotation Column 02 Level        object\n",
       "Flotation Column 03 Level        object\n",
       "Flotation Column 04 Level        object\n",
       "Flotation Column 05 Level        object\n",
       "Flotation Column 06 Level        object\n",
       "Flotation Column 07 Level        object\n",
       "% Iron Concentrate              float64\n",
       "% Silica Concentrate            float64\n",
       "dtype: object"
      ]
     },
     "execution_count": 17,
     "metadata": {},
     "output_type": "execute_result"
    }
   ],
   "source": [
    "df.dtypes"
   ]
  },
  {
   "cell_type": "code",
   "execution_count": 18,
   "id": "fb2d2887",
   "metadata": {},
   "outputs": [
    {
     "data": {
      "text/plain": [
       "'862274'"
      ]
     },
     "execution_count": 18,
     "metadata": {},
     "output_type": "execute_result"
    }
   ],
   "source": [
    "df['Flotation Column 01 Level'].max()"
   ]
  },
  {
   "cell_type": "code",
   "execution_count": 19,
   "id": "a37259c6",
   "metadata": {},
   "outputs": [
    {
     "data": {
      "text/plain": [
       "'149218'"
      ]
     },
     "execution_count": 19,
     "metadata": {},
     "output_type": "execute_result"
    }
   ],
   "source": [
    "df['Flotation Column 01 Level'].min()"
   ]
  },
  {
   "cell_type": "markdown",
   "id": "e7bfcaf3",
   "metadata": {},
   "source": [
    "# Data Visualization"
   ]
  },
  {
   "cell_type": "code",
   "execution_count": 20,
   "id": "d20f515a",
   "metadata": {},
   "outputs": [],
   "source": [
    "import matplotlib.pyplot as plt\n",
    "import seaborn as sns"
   ]
  },
  {
   "cell_type": "code",
   "execution_count": 21,
   "id": "155d2685",
   "metadata": {},
   "outputs": [
    {
     "data": {
      "image/png": "[encoded data removed]",
      "text/plain": [
       "<Figure size 432x288 with 1 Axes>"
      ]
     },
     "metadata": {
      "needs_background": "light"
     },
     "output_type": "display_data"
    }
   ],
   "source": [
    "plt.plot(df['% Iron Feed'])\n",
    "plt.show()"
   ]
  },
  {
   "cell_type": "code",
   "execution_count": 22,
   "id": "af39b031",
   "metadata": {},
   "outputs": [
    {
     "data": {
      "image/png": "[encoded data removed]",
      "text/plain": [
       "<Figure size 936x648 with 2 Axes>"
      ]
     },
     "metadata": {
      "needs_background": "light"
     },
     "output_type": "display_data"
    }
   ],
   "source": [
    "plt.figure(figsize=(13,9))\n",
    "sns.heatmap(df.drop('date',axis=1).corr())\n",
    "plt.show()"
   ]
  },
  {
   "cell_type": "code",
   "execution_count": 23,
   "id": "25df6604",
   "metadata": {},
   "outputs": [
    {
     "data": {
      "text/plain": [
       "<Figure size 936x648 with 0 Axes>"
      ]
     },
     "metadata": {},
     "output_type": "display_data"
    },
    {
     "data": {
      "image/png": "[encoded data removed]",
      "text/plain": [
       "<Figure size 432x432 with 3 Axes>"
      ]
     },
     "metadata": {
      "needs_background": "light"
     },
     "output_type": "display_data"
    }
   ],
   "source": [
    "plt.figure(figsize=(13,9))\n",
    "sns.jointplot(x='% Iron Feed',y='% Iron Concentrate',data=df)\n",
    "plt.show()"
   ]
  },
  {
   "cell_type": "code",
   "execution_count": 24,
   "id": "28561ee7",
   "metadata": {},
   "outputs": [
    {
     "data": {
      "text/plain": [
       "<Figure size 936x648 with 0 Axes>"
      ]
     },
     "metadata": {},
     "output_type": "display_data"
    },
    {
     "data": {
      "image/png": "[encoded data removed]",
      "text/plain": [
       "<Figure size 432x432 with 3 Axes>"
      ]
     },
     "metadata": {
      "needs_background": "light"
     },
     "output_type": "display_data"
    }
   ],
   "source": [
    "plt.figure(figsize=(13,9))\n",
    "sns.jointplot(x='% Silica Feed',y='% Silica Concentrate',data=df)\n",
    "plt.show()"
   ]
  },
  {
   "cell_type": "markdown",
   "id": "eb57b544",
   "metadata": {},
   "source": [
    "# Train Test Split"
   ]
  },
  {
   "cell_type": "code",
   "execution_count": 25,
   "id": "21807be6",
   "metadata": {},
   "outputs": [],
   "source": [
    "x=df.drop(['date','% Silica Concentrate'],axis=1)\n",
    "y=df['% Silica Concentrate']"
   ]
  },
  {
   "cell_type": "code",
   "execution_count": 26,
   "id": "23c6f0d2",
   "metadata": {},
   "outputs": [],
   "source": [
    "from sklearn.model_selection import train_test_split"
   ]
  },
  {
   "cell_type": "code",
   "execution_count": 27,
   "id": "92f5cc66",
   "metadata": {},
   "outputs": [],
   "source": [
    "x_train,x_test,y_train,y_test = train_test_split(x,y,test_size=0.3)"
   ]
  },
  {
   "cell_type": "markdown",
   "id": "53b385f4",
   "metadata": {},
   "source": [
    "# LinearRegression Model"
   ]
  },
  {
   "cell_type": "code",
   "execution_count": 28,
   "id": "6683ddc7",
   "metadata": {},
   "outputs": [],
   "source": [
    "from sklearn.linear_model import LinearRegression"
   ]
  },
  {
   "cell_type": "code",
   "execution_count": 29,
   "id": "78c38fa3",
   "metadata": {},
   "outputs": [],
   "source": [
    "lr = LinearRegression()"
   ]
  },
  {
   "cell_type": "code",
   "execution_count": 30,
   "id": "d7d3b603",
   "metadata": {},
   "outputs": [
    {
     "data": {
      "text/html": [
       "<style>#sk-container-id-1 {color: black;}#sk-container-id-1 pre{padding: 0;}#sk-container-id-1 div.sk-toggleable {background-color: white;}#sk-container-id-1 label.sk-toggleable__label {cursor: pointer;display: block;width: 100%;margin-bottom: 0;padding: 0.3em;box-sizing: border-box;text-align: center;}#sk-container-id-1 label.sk-toggleable__label-arrow:before {content: \"▸\";float: left;margin-right: 0.25em;color: #696969;}#sk-container-id-1 label.sk-toggleable__label-arrow:hover:before {color: black;}#sk-container-id-1 div.sk-estimator:hover label.sk-toggleable__label-arrow:before {color: black;}#sk-container-id-1 div.sk-toggleable__content {max-height: 0;max-width: 0;overflow: hidden;text-align: left;background-color: #f0f8ff;}#sk-container-id-1 div.sk-toggleable__content pre {margin: 0.2em;color: black;border-radius: 0.25em;background-color: #f0f8ff;}#sk-container-id-1 input.sk-toggleable__control:checked~div.sk-toggleable__content {max-height: 200px;max-width: 100%;overflow: auto;}#sk-container-id-1 input.sk-toggleable__control:checked~label.sk-toggleable__label-arrow:before {content: \"▾\";}#sk-container-id-1 div.sk-estimator input.sk-toggleable__control:checked~label.sk-toggleable__label {background-color: #d4ebff;}#sk-container-id-1 div.sk-label input.sk-toggleable__control:checked~label.sk-toggleable__label {background-color: #d4ebff;}#sk-container-id-1 input.sk-hidden--visually {border: 0;clip: rect(1px 1px 1px 1px);clip: rect(1px, 1px, 1px, 1px);height: 1px;margin: -1px;overflow: hidden;padding: 0;position: absolute;width: 1px;}#sk-container-id-1 div.sk-estimator {font-family: monospace;background-color: #f0f8ff;border: 1px dotted black;border-radius: 0.25em;box-sizing: border-box;margin-bottom: 0.5em;}#sk-container-id-1 div.sk-estimator:hover {background-color: #d4ebff;}#sk-container-id-1 div.sk-parallel-item::after {content: \"\";width: 100%;border-bottom: 1px solid gray;flex-grow: 1;}#sk-container-id-1 div.sk-label:hover label.sk-toggleable__label {background-color: #d4ebff;}#sk-container-id-1 div.sk-serial::before {content: \"\";position: absolute;border-left: 1px solid gray;box-sizing: border-box;top: 0;bottom: 0;left: 50%;z-index: 0;}#sk-container-id-1 div.sk-serial {display: flex;flex-direction: column;align-items: center;background-color: white;padding-right: 0.2em;padding-left: 0.2em;position: relative;}#sk-container-id-1 div.sk-item {position: relative;z-index: 1;}#sk-container-id-1 div.sk-parallel {display: flex;align-items: stretch;justify-content: center;background-color: white;position: relative;}#sk-container-id-1 div.sk-item::before, #sk-container-id-1 div.sk-parallel-item::before {content: \"\";position: absolute;border-left: 1px solid gray;box-sizing: border-box;top: 0;bottom: 0;left: 50%;z-index: -1;}#sk-container-id-1 div.sk-parallel-item {display: flex;flex-direction: column;z-index: 1;position: relative;background-color: white;}#sk-container-id-1 div.sk-parallel-item:first-child::after {align-self: flex-end;width: 50%;}#sk-container-id-1 div.sk-parallel-item:last-child::after {align-self: flex-start;width: 50%;}#sk-container-id-1 div.sk-parallel-item:only-child::after {width: 0;}#sk-container-id-1 div.sk-dashed-wrapped {border: 1px dashed gray;margin: 0 0.4em 0.5em 0.4em;box-sizing: border-box;padding-bottom: 0.4em;background-color: white;}#sk-container-id-1 div.sk-label label {font-family: monospace;font-weight: bold;display: inline-block;line-height: 1.2em;}#sk-container-id-1 div.sk-label-container {text-align: center;}#sk-container-id-1 div.sk-container {/* jupyter's `normalize.less` sets `[hidden] { display: none; }` but bootstrap.min.css set `[hidden] { display: none !important; }` so we also need the `!important` here to be able to override the default hidden behavior on the sphinx rendered scikit-learn.org. See: https://github.com/scikit-learn/scikit-learn/issues/21755 */display: inline-block !important;position: relative;}#sk-container-id-1 div.sk-text-repr-fallback {display: none;}</style><div id=\"sk-container-id-1\" class=\"sk-top-container\"><div class=\"sk-text-repr-fallback\"><pre>LinearRegression()</pre><b>In a Jupyter environment, please rerun this cell to show the HTML representation or trust the notebook. <br />On GitHub, the HTML representation is unable to render, please try loading this page with nbviewer.org.</b></div><div class=\"sk-container\" hidden><div class=\"sk-item\"><div class=\"sk-estimator sk-toggleable\"><input class=\"sk-toggleable__control sk-hidden--visually\" id=\"sk-estimator-id-1\" type=\"checkbox\" checked><label for=\"sk-estimator-id-1\" class=\"sk-toggleable__label sk-toggleable__label-arrow\">LinearRegression</label><div class=\"sk-toggleable__content\"><pre>LinearRegression()</pre></div></div></div></div></div>"
      ],
      "text/plain": [
       "LinearRegression()"
      ]
     },
     "execution_count": 30,
     "metadata": {},
     "output_type": "execute_result"
    }
   ],
   "source": [
    "lr.fit(x_train,y_train)"
   ]
  },
  {
   "cell_type": "code",
   "execution_count": 31,
   "id": "186c6977",
   "metadata": {},
   "outputs": [],
   "source": [
    "pred = lr.predict(x_test)"
   ]
  },
  {
   "cell_type": "code",
   "execution_count": 32,
   "id": "a1c02a80",
   "metadata": {},
   "outputs": [
    {
     "data": {
      "text/plain": [
       "0.6532278932771289"
      ]
     },
     "execution_count": 32,
     "metadata": {},
     "output_type": "execute_result"
    }
   ],
   "source": [
    "lr.score(x_train,y_train)"
   ]
  },
  {
   "cell_type": "code",
   "execution_count": 33,
   "id": "e2762ccd",
   "metadata": {},
   "outputs": [
    {
     "data": {
      "text/plain": [
       "0.6548455453213711"
      ]
     },
     "execution_count": 33,
     "metadata": {},
     "output_type": "execute_result"
    }
   ],
   "source": [
    "lr.score(x_test,y_test)"
   ]
  },
  {
   "cell_type": "markdown",
   "id": "8a9b26cb",
   "metadata": {},
   "source": [
    "# Decision Tree Regressor"
   ]
  },
  {
   "cell_type": "code",
   "execution_count": 34,
   "id": "1170d852",
   "metadata": {},
   "outputs": [],
   "source": [
    "from sklearn.tree import DecisionTreeRegressor"
   ]
  },
  {
   "cell_type": "code",
   "execution_count": 35,
   "id": "ce6e2afd",
   "metadata": {},
   "outputs": [],
   "source": [
    "dt = DecisionTreeRegressor()"
   ]
  },
  {
   "cell_type": "code",
   "execution_count": 36,
   "id": "71211dee",
   "metadata": {},
   "outputs": [
    {
     "data": {
      "text/html": [
       "<style>#sk-container-id-2 {color: black;}#sk-container-id-2 pre{padding: 0;}#sk-container-id-2 div.sk-toggleable {background-color: white;}#sk-container-id-2 label.sk-toggleable__label {cursor: pointer;display: block;width: 100%;margin-bottom: 0;padding: 0.3em;box-sizing: border-box;text-align: center;}#sk-container-id-2 label.sk-toggleable__label-arrow:before {content: \"▸\";float: left;margin-right: 0.25em;color: #696969;}#sk-container-id-2 label.sk-toggleable__label-arrow:hover:before {color: black;}#sk-container-id-2 div.sk-estimator:hover label.sk-toggleable__label-arrow:before {color: black;}#sk-container-id-2 div.sk-toggleable__content {max-height: 0;max-width: 0;overflow: hidden;text-align: left;background-color: #f0f8ff;}#sk-container-id-2 div.sk-toggleable__content pre {margin: 0.2em;color: black;border-radius: 0.25em;background-color: #f0f8ff;}#sk-container-id-2 input.sk-toggleable__control:checked~div.sk-toggleable__content {max-height: 200px;max-width: 100%;overflow: auto;}#sk-container-id-2 input.sk-toggleable__control:checked~label.sk-toggleable__label-arrow:before {content: \"▾\";}#sk-container-id-2 div.sk-estimator input.sk-toggleable__control:checked~label.sk-toggleable__label {background-color: #d4ebff;}#sk-container-id-2 div.sk-label input.sk-toggleable__control:checked~label.sk-toggleable__label {background-color: #d4ebff;}#sk-container-id-2 input.sk-hidden--visually {border: 0;clip: rect(1px 1px 1px 1px);clip: rect(1px, 1px, 1px, 1px);height: 1px;margin: -1px;overflow: hidden;padding: 0;position: absolute;width: 1px;}#sk-container-id-2 div.sk-estimator {font-family: monospace;background-color: #f0f8ff;border: 1px dotted black;border-radius: 0.25em;box-sizing: border-box;margin-bottom: 0.5em;}#sk-container-id-2 div.sk-estimator:hover {background-color: #d4ebff;}#sk-container-id-2 div.sk-parallel-item::after {content: \"\";width: 100%;border-bottom: 1px solid gray;flex-grow: 1;}#sk-container-id-2 div.sk-label:hover label.sk-toggleable__label {background-color: #d4ebff;}#sk-container-id-2 div.sk-serial::before {content: \"\";position: absolute;border-left: 1px solid gray;box-sizing: border-box;top: 0;bottom: 0;left: 50%;z-index: 0;}#sk-container-id-2 div.sk-serial {display: flex;flex-direction: column;align-items: center;background-color: white;padding-right: 0.2em;padding-left: 0.2em;position: relative;}#sk-container-id-2 div.sk-item {position: relative;z-index: 1;}#sk-container-id-2 div.sk-parallel {display: flex;align-items: stretch;justify-content: center;background-color: white;position: relative;}#sk-container-id-2 div.sk-item::before, #sk-container-id-2 div.sk-parallel-item::before {content: \"\";position: absolute;border-left: 1px solid gray;box-sizing: border-box;top: 0;bottom: 0;left: 50%;z-index: -1;}#sk-container-id-2 div.sk-parallel-item {display: flex;flex-direction: column;z-index: 1;position: relative;background-color: white;}#sk-container-id-2 div.sk-parallel-item:first-child::after {align-self: flex-end;width: 50%;}#sk-container-id-2 div.sk-parallel-item:last-child::after {align-self: flex-start;width: 50%;}#sk-container-id-2 div.sk-parallel-item:only-child::after {width: 0;}#sk-container-id-2 div.sk-dashed-wrapped {border: 1px dashed gray;margin: 0 0.4em 0.5em 0.4em;box-sizing: border-box;padding-bottom: 0.4em;background-color: white;}#sk-container-id-2 div.sk-label label {font-family: monospace;font-weight: bold;display: inline-block;line-height: 1.2em;}#sk-container-id-2 div.sk-label-container {text-align: center;}#sk-container-id-2 div.sk-container {/* jupyter's `normalize.less` sets `[hidden] { display: none; }` but bootstrap.min.css set `[hidden] { display: none !important; }` so we also need the `!important` here to be able to override the default hidden behavior on the sphinx rendered scikit-learn.org. See: https://github.com/scikit-learn/scikit-learn/issues/21755 */display: inline-block !important;position: relative;}#sk-container-id-2 div.sk-text-repr-fallback {display: none;}</style><div id=\"sk-container-id-2\" class=\"sk-top-container\"><div class=\"sk-text-repr-fallback\"><pre>DecisionTreeRegressor()</pre><b>In a Jupyter environment, please rerun this cell to show the HTML representation or trust the notebook. <br />On GitHub, the HTML representation is unable to render, please try loading this page with nbviewer.org.</b></div><div class=\"sk-container\" hidden><div class=\"sk-item\"><div class=\"sk-estimator sk-toggleable\"><input class=\"sk-toggleable__control sk-hidden--visually\" id=\"sk-estimator-id-2\" type=\"checkbox\" checked><label for=\"sk-estimator-id-2\" class=\"sk-toggleable__label sk-toggleable__label-arrow\">DecisionTreeRegressor</label><div class=\"sk-toggleable__content\"><pre>DecisionTreeRegressor()</pre></div></div></div></div></div>"
      ],
      "text/plain": [
       "DecisionTreeRegressor()"
      ]
     },
     "execution_count": 36,
     "metadata": {},
     "output_type": "execute_result"
    }
   ],
   "source": [
    "dt.fit(x_train,y_train)"
   ]
  },
  {
   "cell_type": "code",
   "execution_count": 37,
   "id": "b57623f3",
   "metadata": {},
   "outputs": [],
   "source": [
    "pred = dt.predict(x_test)"
   ]
  },
  {
   "cell_type": "code",
   "execution_count": 38,
   "id": "e625aa43",
   "metadata": {},
   "outputs": [
    {
     "data": {
      "text/plain": [
       "1.0"
      ]
     },
     "execution_count": 38,
     "metadata": {},
     "output_type": "execute_result"
    }
   ],
   "source": [
    "dt.score(x_train,y_train)"
   ]
  },
  {
   "cell_type": "code",
   "execution_count": 39,
   "id": "82a088d5",
   "metadata": {},
   "outputs": [
    {
     "data": {
      "text/plain": [
       "0.9793457324122626"
      ]
     },
     "execution_count": 39,
     "metadata": {},
     "output_type": "execute_result"
    }
   ],
   "source": [
    "dt.score(x_test,y_test)"
   ]
  },
  {
   "cell_type": "code",
   "execution_count": 48,
   "id": "85c9fd82",
   "metadata": {},
   "outputs": [
    {
     "data": {
      "text/html": [
       "<div>\n",
       "<style scoped>\n",
       "    .dataframe tbody tr th:only-of-type {\n",
       "        vertical-align: middle;\n",
       "    }\n",
       "\n",
       "    .dataframe tbody tr th {\n",
       "        vertical-align: top;\n",
       "    }\n",
       "\n",
       "    .dataframe thead th {\n",
       "        text-align: right;\n",
       "    }\n",
       "</style>\n",
       "<table border=\"1\" class=\"dataframe\">\n",
       "  <thead>\n",
       "    <tr style=\"text-align: right;\">\n",
       "      <th></th>\n",
       "      <th>% Iron Feed</th>\n",
       "      <th>% Silica Feed</th>\n",
       "      <th>Starch Flow</th>\n",
       "      <th>Amina Flow</th>\n",
       "      <th>Ore Pulp Flow</th>\n",
       "      <th>Ore Pulp pH</th>\n",
       "      <th>Ore Pulp Density</th>\n",
       "      <th>Flotation Column 01 Air Flow</th>\n",
       "      <th>Flotation Column 02 Air Flow</th>\n",
       "      <th>Flotation Column 03 Air Flow</th>\n",
       "      <th>...</th>\n",
       "      <th>Flotation Column 06 Air Flow</th>\n",
       "      <th>Flotation Column 07 Air Flow</th>\n",
       "      <th>Flotation Column 01 Level</th>\n",
       "      <th>Flotation Column 02 Level</th>\n",
       "      <th>Flotation Column 03 Level</th>\n",
       "      <th>Flotation Column 04 Level</th>\n",
       "      <th>Flotation Column 05 Level</th>\n",
       "      <th>Flotation Column 06 Level</th>\n",
       "      <th>Flotation Column 07 Level</th>\n",
       "      <th>% Iron Concentrate</th>\n",
       "    </tr>\n",
       "  </thead>\n",
       "  <tbody>\n",
       "    <tr>\n",
       "      <th>0</th>\n",
       "      <td>55.2</td>\n",
       "      <td>16.98</td>\n",
       "      <td>301953</td>\n",
       "      <td>557434</td>\n",
       "      <td>395713</td>\n",
       "      <td>100664</td>\n",
       "      <td>1.74</td>\n",
       "      <td>249214</td>\n",
       "      <td>253235</td>\n",
       "      <td>250576</td>\n",
       "      <td>...</td>\n",
       "      <td>250225</td>\n",
       "      <td>250884</td>\n",
       "      <td>457396</td>\n",
       "      <td>432962</td>\n",
       "      <td>424954</td>\n",
       "      <td>443558</td>\n",
       "      <td>502255</td>\n",
       "      <td>44637</td>\n",
       "      <td>523344</td>\n",
       "      <td>66.91</td>\n",
       "    </tr>\n",
       "  </tbody>\n",
       "</table>\n",
       "<p>1 rows × 22 columns</p>\n",
       "</div>"
      ],
      "text/plain": [
       "   % Iron Feed  % Silica Feed Starch Flow Amina Flow Ore Pulp Flow  \\\n",
       "0         55.2          16.98      301953     557434        395713   \n",
       "\n",
       "  Ore Pulp pH  Ore Pulp Density Flotation Column 01 Air Flow  \\\n",
       "0      100664              1.74                       249214   \n",
       "\n",
       "  Flotation Column 02 Air Flow Flotation Column 03 Air Flow  ...  \\\n",
       "0                       253235                       250576  ...   \n",
       "\n",
       "  Flotation Column 06 Air Flow Flotation Column 07 Air Flow  \\\n",
       "0                       250225                       250884   \n",
       "\n",
       "  Flotation Column 01 Level Flotation Column 02 Level  \\\n",
       "0                    457396                    432962   \n",
       "\n",
       "  Flotation Column 03 Level Flotation Column 04 Level  \\\n",
       "0                    424954                    443558   \n",
       "\n",
       "  Flotation Column 05 Level Flotation Column 06 Level  \\\n",
       "0                    502255                     44637   \n",
       "\n",
       "  Flotation Column 07 Level % Iron Concentrate  \n",
       "0                    523344              66.91  \n",
       "\n",
       "[1 rows x 22 columns]"
      ]
     },
     "execution_count": 48,
     "metadata": {},
     "output_type": "execute_result"
    }
   ],
   "source": [
    "sample = df.head(1).drop(['date','% Silica Concentrate'],axis=1)\n",
    "sample"
   ]
  },
  {
   "cell_type": "code",
   "execution_count": 49,
   "id": "dd330e66",
   "metadata": {},
   "outputs": [
    {
     "name": "stdout",
     "output_type": "stream",
     "text": [
      "[1.31]\n"
     ]
    }
   ],
   "source": [
    "print(dt.predict(sample))"
   ]
  },
  {
   "cell_type": "code",
   "execution_count": 50,
   "id": "fc6d7662",
   "metadata": {},
   "outputs": [
    {
     "data": {
      "text/html": [
       "<div>\n",
       "<style scoped>\n",
       "    .dataframe tbody tr th:only-of-type {\n",
       "        vertical-align: middle;\n",
       "    }\n",
       "\n",
       "    .dataframe tbody tr th {\n",
       "        vertical-align: top;\n",
       "    }\n",
       "\n",
       "    .dataframe thead th {\n",
       "        text-align: right;\n",
       "    }\n",
       "</style>\n",
       "<table border=\"1\" class=\"dataframe\">\n",
       "  <thead>\n",
       "    <tr style=\"text-align: right;\">\n",
       "      <th></th>\n",
       "      <th>date</th>\n",
       "      <th>% Iron Feed</th>\n",
       "      <th>% Silica Feed</th>\n",
       "      <th>Starch Flow</th>\n",
       "      <th>Amina Flow</th>\n",
       "      <th>Ore Pulp Flow</th>\n",
       "      <th>Ore Pulp pH</th>\n",
       "      <th>Ore Pulp Density</th>\n",
       "      <th>Flotation Column 01 Air Flow</th>\n",
       "      <th>Flotation Column 02 Air Flow</th>\n",
       "      <th>...</th>\n",
       "      <th>Flotation Column 07 Air Flow</th>\n",
       "      <th>Flotation Column 01 Level</th>\n",
       "      <th>Flotation Column 02 Level</th>\n",
       "      <th>Flotation Column 03 Level</th>\n",
       "      <th>Flotation Column 04 Level</th>\n",
       "      <th>Flotation Column 05 Level</th>\n",
       "      <th>Flotation Column 06 Level</th>\n",
       "      <th>Flotation Column 07 Level</th>\n",
       "      <th>% Iron Concentrate</th>\n",
       "      <th>% Silica Concentrate</th>\n",
       "    </tr>\n",
       "  </thead>\n",
       "  <tbody>\n",
       "    <tr>\n",
       "      <th>0</th>\n",
       "      <td>2017-03-10 01:00:00</td>\n",
       "      <td>55.2</td>\n",
       "      <td>16.98</td>\n",
       "      <td>301953</td>\n",
       "      <td>557434</td>\n",
       "      <td>395713</td>\n",
       "      <td>100664</td>\n",
       "      <td>1.74</td>\n",
       "      <td>249214</td>\n",
       "      <td>253235</td>\n",
       "      <td>...</td>\n",
       "      <td>250884</td>\n",
       "      <td>457396</td>\n",
       "      <td>432962</td>\n",
       "      <td>424954</td>\n",
       "      <td>443558</td>\n",
       "      <td>502255</td>\n",
       "      <td>44637</td>\n",
       "      <td>523344</td>\n",
       "      <td>66.91</td>\n",
       "      <td>1.31</td>\n",
       "    </tr>\n",
       "  </tbody>\n",
       "</table>\n",
       "<p>1 rows × 24 columns</p>\n",
       "</div>"
      ],
      "text/plain": [
       "                  date  % Iron Feed  % Silica Feed Starch Flow Amina Flow  \\\n",
       "0  2017-03-10 01:00:00         55.2          16.98      301953     557434   \n",
       "\n",
       "  Ore Pulp Flow Ore Pulp pH  Ore Pulp Density Flotation Column 01 Air Flow  \\\n",
       "0        395713      100664              1.74                       249214   \n",
       "\n",
       "  Flotation Column 02 Air Flow  ... Flotation Column 07 Air Flow  \\\n",
       "0                       253235  ...                       250884   \n",
       "\n",
       "  Flotation Column 01 Level Flotation Column 02 Level  \\\n",
       "0                    457396                    432962   \n",
       "\n",
       "  Flotation Column 03 Level Flotation Column 04 Level  \\\n",
       "0                    424954                    443558   \n",
       "\n",
       "  Flotation Column 05 Level Flotation Column 06 Level  \\\n",
       "0                    502255                     44637   \n",
       "\n",
       "  Flotation Column 07 Level % Iron Concentrate % Silica Concentrate  \n",
       "0                    523344              66.91                 1.31  \n",
       "\n",
       "[1 rows x 24 columns]"
      ]
     },
     "execution_count": 50,
     "metadata": {},
     "output_type": "execute_result"
    }
   ],
   "source": [
    "df.head(1)"
   ]
  },
  {
   "cell_type": "code",
   "execution_count": 66,
   "id": "5ec96824",
   "metadata": {},
   "outputs": [],
   "source": [
    "from sklearn.metrics import mean_squared_error,mean_absolute_error"
   ]
  },
  {
   "cell_type": "code",
   "execution_count": 74,
   "id": "9ab73066",
   "metadata": {},
   "outputs": [
    {
     "name": "stdout",
     "output_type": "stream",
     "text": [
      "Mean Absolute error is:  0.026690231056594012\n"
     ]
    }
   ],
   "source": [
    "print(\"Mean Absolute error is: \",mean_absolute_error(y_test,pred))"
   ]
  },
  {
   "cell_type": "code",
   "execution_count": 73,
   "id": "1072bc80",
   "metadata": {},
   "outputs": [
    {
     "name": "stdout",
     "output_type": "stream",
     "text": [
      "Mean Squared error is:  0.026182883589686717\n"
     ]
    }
   ],
   "source": [
    "print(\"Mean Squared error is: \",mean_squared_error(y_test,pred))"
   ]
  },
  {
   "cell_type": "code",
   "execution_count": null,
   "id": "d5e6cd14",
   "metadata": {},
   "outputs": [],
   "source": []
  }
 ],
 "metadata": {
  "kernelspec": {
   "display_name": "Python 3 (ipykernel)",
   "language": "python",
   "name": "python3"
  },
  "language_info": {
   "codemirror_mode": {
    "name": "ipython",
    "version": 3
   },
   "file_extension": ".py",
   "mimetype": "text/x-python",
   "name": "python",
   "nbconvert_exporter": "python",
   "pygments_lexer": "ipython3",
   "version": "3.10.2"
  }
 },
 "nbformat": 4,
 "nbformat_minor": 5
}
